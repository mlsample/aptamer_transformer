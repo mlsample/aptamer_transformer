{
 "cells": [
  {
   "cell_type": "code",
   "execution_count": 7,
   "metadata": {},
   "outputs": [
    {
     "name": "stdout",
     "output_type": "stream",
     "text": [
      "The autoreload extension is already loaded. To reload it, use:\n",
      "  %reload_ext autoreload\n"
     ]
    }
   ],
   "source": [
    "import nupack as npk\n",
    "\n",
    "from torch.utils.data import DataLoader\n",
    "from torch import optim\n",
    "from transformers import AutoTokenizer, DataCollatorForLanguageModeling\n",
    "from sklearn.preprocessing import label_binarize\n",
    "\n",
    "import matplotlib.pyplot as plt\n",
    "import pickle\n",
    "\n",
    "from aptamer_transformer.factories_model_loss import get_model\n",
    "from aptamer_transformer.data_utils import *\n",
    "from aptamer_transformer.metric_utils import *\n",
    "\n",
    "\n",
    "%load_ext autoreload\n",
    "%autoreload 2"
   ]
  },
  {
   "cell_type": "code",
   "execution_count": 8,
   "metadata": {},
   "outputs": [],
   "source": [
    "cfg = read_cfg('../aptamer_transformer/config.yaml')\n",
    "dna_dataset = load_dataset(cfg)\n",
    "df = load_df(cfg)\n",
    "# tokenizer = AutoTokenizer.from_pretrained(cfg['tokenizer_path'])\n",
    "\n",
    "# seqs = tokenizer.batch_decode(dna_dataset.tokenized_seqs, skip_special_tokens=True)\n",
    "# strand_dict = {i: npk.Strand(seq.replace(' ', ''), name=str(i)) for i, seq in enumerate(seqs)}"
   ]
  },
  {
   "cell_type": "code",
   "execution_count": 12,
   "metadata": {},
   "outputs": [],
   "source": [
    "strand_dict = {seq: npk.Strand(seq.replace(' ', ''), name=str(i)) for i, seq in enumerate(df.Sequence.values)}"
   ]
  },
  {
   "cell_type": "code",
   "execution_count": null,
   "metadata": {},
   "outputs": [],
   "source": [
    "with open('../data/nupack_strucutre_data/mfe.pickle', 'rb') as f:\n",
    "    mfe = pickle.load(f)\n",
    "    \n",
    "with open('../data/nupack_strucutre_data/proabability_matrix.pickle', 'rb') as f:\n",
    "    prob = pickle.load(f)"
   ]
  },
  {
   "cell_type": "code",
   "execution_count": 98,
   "metadata": {},
   "outputs": [],
   "source": [
    "model1 = npk.Model(material='dna', ensemble='stacking', celsius=37, sodium=0.05, magnesium=0.0125)\n",
    "\n",
    "mfes = {key: npk.mfe([strand_dict[key]], model=model1)  for key in strand_dict}\n",
    "\n",
    "\n",
    "with open('../data/nupack_strucutre_data/proabability_matrix.pickle', 'wb') as f:\n",
    "    # Pickle the 'data' dictionary using the highest protocol available.\n",
    "    pickle.dump(mfes, f, pickle.HIGHEST_PROTOCOL)\n",
    "\n"
   ]
  },
  {
   "cell_type": "code",
   "execution_count": null,
   "metadata": {},
   "outputs": [],
   "source": [
    "model1 = npk.Model(material='dna', ensemble='stacking', celsius=37, sodium=0.05, magnesium=0.0125)\n",
    "\n",
    "probability_matrix  = {key: npk.pairs([strand_dict[key]], model=model1)  for key in strand_dict}\n",
    "\n",
    "\n",
    "with open('../data/nupack_strucutre_data/some_proabability_matrix.pickle', 'wb') as f:\n",
    "    # Pickle the 'data' dictionary using the highest protocol available.\n",
    "    pickle.dump(probability_matrix, f, pickle.HIGHEST_PROTOCOL)\n"
   ]
  },
  {
   "cell_type": "code",
   "execution_count": 62,
   "metadata": {},
   "outputs": [],
   "source": [
    "complexes = {key: npk.Complex([strand_dict[key]]) for key in strand_dict}\n",
    "strands_for_tube = {value:1e-10 for value in strand_dict.values()}\n",
    "tubes = {npk.Tube(strands={strand_dict[key]:1e-10}, complexes=npk.SetSpec(max_size=1, include=[npk.Complex([strand_dict[key]])]), name='key') for key in strand_dict}\n",
    "tube_results = npk.tube_analysis(tubes=[tubes], model=model1, compute=['mfe'])"
   ]
  },
  {
   "cell_type": "code",
   "execution_count": 88,
   "metadata": {},
   "outputs": [
    {
     "name": "stdout",
     "output_type": "stream",
     "text": [
      "Physical quantities for complex c\n",
      "Complex free energy: -1.75 kcal/mol\n",
      "Partition function: 1.71e+01\n",
      "MFE proxy structure: .............................((......))..\n",
      "Free energy of MFE proxy structure: -0.49 kcal/mol\n"
     ]
    },
    {
     "data": {
      "image/png": "[encoded data removed]",
      "text/plain": [
       "<Figure size 640x480 with 2 Axes>"
      ]
     },
     "metadata": {},
     "output_type": "display_data"
    }
   ],
   "source": [
    "c_result = tube_results[c1] # equivalent to my_result['c']\n",
    "print('Physical quantities for complex c')\n",
    "print('Complex free energy: %.2f kcal/mol' % c_result.free_energy)\n",
    "print('Partition function: %.2e' % c_result.pfunc)\n",
    "print('MFE proxy structure: %s' % c_result.mfe[0].structure)\n",
    "print('Free energy of MFE proxy structure: %.2f kcal/mol' % c_result.mfe[0].energy)\n",
    "plt.imshow(tube_results[c1].pairs.to_array())\n",
    "plt.xlabel('Base index')\n",
    "plt.ylabel('Base index')\n",
    "plt.title('Pair probabilities for complex c')\n",
    "plt.colorbar()\n",
    "plt.clim(0, 1)\n",
    "# plt.savefig('my-figure.pdf') # optionally, save a PDF of your figure"
   ]
  },
  {
   "cell_type": "code",
   "execution_count": 51,
   "metadata": {},
   "outputs": [
    {
     "data": {
      "text/plain": [
       "[Structure('.........................(....)..........'),\n",
       " Structure('..(...)......................((......))..'),\n",
       " Structure('....................(.....)..............'),\n",
       " Structure('......................(....).((......))..'),\n",
       " Structure('..(.....).....................(......)...'),\n",
       " Structure('.........................((....))........'),\n",
       " Structure('.........................((....))........'),\n",
       " Structure('..(.........)................((......))..'),\n",
       " Structure('......................(.......((...))...)'),\n",
       " Structure('.............................((......))..')]"
      ]
     },
     "execution_count": 51,
     "metadata": {},
     "output_type": "execute_result"
    }
   ],
   "source": [
    "sampled_structures = npk.sample(strands=[strand_dict[0]], model=model1, num_sample=10)\n",
    "sampled_structures"
   ]
  },
  {
   "cell_type": "code",
   "execution_count": 60,
   "metadata": {},
   "outputs": [
    {
     "name": "stdout",
     "output_type": "stream",
     "text": [
      "Free energy of MFE proxy structure: -0.49 kcal/mol\n",
      "MFE proxy structure in dot-parens-plus notation: .............................((......))..\n",
      "MFE proxy structure as structure matrix:\n",
      "[[1 0 0 ... 0 0 0]\n",
      " [0 1 0 ... 0 0 0]\n",
      " [0 0 1 ... 0 0 0]\n",
      " ...\n",
      " [0 0 0 ... 0 0 0]\n",
      " [0 0 0 ... 0 1 0]\n",
      " [0 0 0 ... 0 0 1]]\n"
     ]
    }
   ],
   "source": [
    "mfe_structures = npk.mfe(strands=[strand_dict[0]], model=model1)\n",
    "print('Free energy of MFE proxy structure: %.2f kcal/mol' % mfe_structures[0].energy)\n",
    "print('MFE proxy structure in dot-parens-plus notation: %s' % mfe_structures[0].structure)\n",
    "print('MFE proxy structure as structure matrix:\\n%s' % mfe_structures[0].structure.matrix())"
   ]
  }
 ],
 "metadata": {
  "kernelspec": {
   "display_name": "guess",
   "language": "python",
   "name": "python3"
  },
  "language_info": {
   "codemirror_mode": {
    "name": "ipython",
    "version": 3
   },
   "file_extension": ".py",
   "mimetype": "text/x-python",
   "name": "python",
   "nbconvert_exporter": "python",
   "pygments_lexer": "ipython3",
   "version": "3.10.13"
  }
 },
 "nbformat": 4,
 "nbformat_minor": 2
}
