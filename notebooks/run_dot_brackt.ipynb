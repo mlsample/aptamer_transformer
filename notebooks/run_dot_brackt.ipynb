{
 "cells": [
  {
   "cell_type": "code",
   "execution_count": 2,
   "id": "4d80798e-20bd-401f-a156-9577573273fa",
   "metadata": {},
   "outputs": [],
   "source": [
    "import torch\n",
    "import torch.nn.functional as F\n",
    "from torch import optim\n",
    "\n",
    "import yaml\n",
    "import pandas as pd\n",
    "import numpy as np\n",
    "import pickle\n",
    "\n",
    "from sklearn.preprocessing import quantile_transform \n",
    "from x_transformers import XTransformer, TransformerWrapper, Decoder, Encoder, ViTransformerWrapper\n",
    "\n",
    "from aptamer_transformer.model import *\n",
    "from aptamer_transformer.factories_model_loss import *\n",
    "from aptamer_transformer.data_utils import *\n",
    "\n",
    "%load_ext autoreload\n",
    "%autoreload 2"
   ]
  },
  {
   "cell_type": "code",
   "execution_count": 3,
   "id": "45ac6345-11c5-44bb-8ffc-56c3186c09b4",
   "metadata": {},
   "outputs": [],
   "source": [
    "cfg = read_cfg('../aptamer_transformer/config.yaml')\n",
    "# Initialize the model and optimizer here as you did during training\n",
    "device = torch.device(\"cuda:0\")  \n",
    "cfg.update({\n",
    "    'device': device,\n",
    "})\n",
    "\n",
    "cfg = model_config(cfg)\n",
    "model = get_model(cfg).to(device)\n",
    "\n",
    "# with open('../data/raw_data/nupack_strucutre_data/mfe.pickle', 'rb') as f:\n",
    "#     mfe = pickle.load(f)\n"
   ]
  },
  {
   "cell_type": "code",
   "execution_count": 18,
   "id": "b526a516",
   "metadata": {},
   "outputs": [],
   "source": [
    "pointer = SeqClassifierDataset"
   ]
  },
  {
   "cell_type": "code",
   "execution_count": 19,
   "id": "7f0a11e2",
   "metadata": {},
   "outputs": [
    {
     "data": {
      "text/plain": [
       "'/glade/u/home/mlsample/work/aptamer_transformer/data/saved_processed_data/pickled/seq_classifier_dataset.pickle'"
      ]
     },
     "execution_count": 19,
     "metadata": {},
     "output_type": "execute_result"
    }
   ],
   "source": [
    "pointer.file_path_to_pickled_dataset(cfg)"
   ]
  },
  {
   "cell_type": "code",
   "execution_count": 2,
   "id": "da4c762d",
   "metadata": {},
   "outputs": [
    {
     "name": "stderr",
     "output_type": "stream",
     "text": [
      "/glade/work/mlsample/conda-envs/guess/lib/python3.10/site-packages/sklearn/preprocessing/_data.py:2663: UserWarning: n_quantiles (1000) is greater than the total number of samples (104). n_quantiles is set to n_samples.\n",
      "  warnings.warn(\n",
      "/glade/work/mlsample/conda-envs/guess/lib/python3.10/site-packages/sklearn/preprocessing/_data.py:2663: UserWarning: n_quantiles (1000) is greater than the total number of samples (76). n_quantiles is set to n_samples.\n",
      "  warnings.warn(\n",
      "/glade/work/mlsample/conda-envs/guess/lib/python3.10/site-packages/sklearn/preprocessing/_data.py:2663: UserWarning: n_quantiles (1000) is greater than the total number of samples (92). n_quantiles is set to n_samples.\n",
      "  warnings.warn(\n",
      "/glade/work/mlsample/conda-envs/guess/lib/python3.10/site-packages/sklearn/preprocessing/_data.py:2663: UserWarning: n_quantiles (1000) is greater than the total number of samples (134). n_quantiles is set to n_samples.\n",
      "  warnings.warn(\n",
      "/glade/work/mlsample/conda-envs/guess/lib/python3.10/site-packages/sklearn/preprocessing/_data.py:2663: UserWarning: n_quantiles (1000) is greater than the total number of samples (136). n_quantiles is set to n_samples.\n",
      "  warnings.warn(\n",
      "/glade/work/mlsample/conda-envs/guess/lib/python3.10/site-packages/sklearn/preprocessing/_data.py:2663: UserWarning: n_quantiles (1000) is greater than the total number of samples (138). n_quantiles is set to n_samples.\n",
      "  warnings.warn(\n",
      "/glade/work/mlsample/conda-envs/guess/lib/python3.10/site-packages/sklearn/preprocessing/_data.py:2663: UserWarning: n_quantiles (1000) is greater than the total number of samples (109). n_quantiles is set to n_samples.\n",
      "  warnings.warn(\n",
      "/glade/work/mlsample/conda-envs/guess/lib/python3.10/site-packages/sklearn/preprocessing/_data.py:2663: UserWarning: n_quantiles (1000) is greater than the total number of samples (89). n_quantiles is set to n_samples.\n",
      "  warnings.warn(\n",
      "/glade/work/mlsample/conda-envs/guess/lib/python3.10/site-packages/sklearn/preprocessing/_data.py:2663: UserWarning: n_quantiles (1000) is greater than the total number of samples (96). n_quantiles is set to n_samples.\n",
      "  warnings.warn(\n",
      "/glade/work/mlsample/conda-envs/guess/lib/python3.10/site-packages/sklearn/preprocessing/_data.py:2663: UserWarning: n_quantiles (1000) is greater than the total number of samples (80). n_quantiles is set to n_samples.\n",
      "  warnings.warn(\n",
      "/glade/work/mlsample/conda-envs/guess/lib/python3.10/site-packages/sklearn/preprocessing/_data.py:2663: UserWarning: n_quantiles (1000) is greater than the total number of samples (77). n_quantiles is set to n_samples.\n",
      "  warnings.warn(\n"
     ]
    }
   ],
   "source": [
    "cfg = read_cfg('../aptamer_transformer/config.yaml')\n",
    "\n",
    "df = load_seq_and_struc_data(cfg)"
   ]
  },
  {
   "cell_type": "code",
   "execution_count": null,
   "id": "22085963",
   "metadata": {},
   "outputs": [],
   "source": [
    "cfg = read_cfg('../aptamer_transformer/config.yaml')\n",
    "\n",
    "dna_dataset = get_pytorch_dataset(df, cfg)"
   ]
  },
  {
   "cell_type": "code",
   "execution_count": 9,
   "id": "5186462c",
   "metadata": {},
   "outputs": [],
   "source": [
    "save_data_set_as_pickle(dna_dataset, cfg)"
   ]
  },
  {
   "cell_type": "code",
   "execution_count": null,
   "id": "139cdb6e",
   "metadata": {},
   "outputs": [],
   "source": [
    "struc_energy = mfe[0][0]\n",
    "\n",
    "energy = struc_energy.energy\n",
    "struc = struc_energy.structure\n",
    "\n",
    "print(f'Dot Bracket Secondart Strucutre Notation:\\n{struc.dotparensplus()}\\n')\n",
    "print(f'Adjacency Matrix (edges):\\n{struc.matrix()}\\n')\n",
    "print(f'Secondary Strucutre Mean Free Energy:\\n{energy}')"
   ]
  },
  {
   "cell_type": "code",
   "execution_count": null,
   "id": "0b0a8df7",
   "metadata": {},
   "outputs": [],
   "source": [
    "from tokenizers import Tokenizer\n",
    "from tokenizers.models import BPE\n",
    "from tokenizers.trainers import BpeTrainer\n",
    "from tokenizers.pre_tokenizers import Whitespace\n",
    "from tokenizers.processors import TemplateProcessing\n",
    "from transformers import PreTrainedTokenizerFast\n",
    "from transformers import DataCollatorForLanguageModeling\n",
    "\n",
    "tokenizer = Tokenizer(BPE(unk_token=\"N\"), )\n",
    "tokenizer.pre_tokenizer = Whitespace()\n",
    "tokenizer.mask_token = \"[MASK]\"\n",
    "tokenizer.cls_token = \"[CLS]\"\n",
    "tokenizer.pad_token = \"[PAD]\"\n",
    "tokenizer.unknown_token = \"N\"\n",
    "tokenizer.model_max_length = 42\n",
    "tokenizer.enable_padding(pad_id=0, pad_token=\"[PAD]\")\n",
    "tokenizer.post_processor = TemplateProcessing(\n",
    "    single=\"[CLS] $A\",\n",
    "    special_tokens=[(\"[PAD]\",0), (\"N\", 1), (\"[CLS]\", 2), (\"[MASK]\", 3)]\n",
    ")\n",
    "\n",
    "trainer = BpeTrainer(\n",
    "    vocab_size=8,\n",
    "    special_tokens=[\"[PAD]\", \"N\", \"[CLS]\", \"[MASK]\"],\n",
    ")\n",
    "\n",
    "structures = [' '.join(df.dot_bracket_struc) for key in mfe.keys()]\n",
    "tokenizer.train_from_iterator(structures, trainer=trainer)\n",
    "\n",
    "fast_tokenizer = PreTrainedTokenizerFast(tokenizer_object=tokenizer, model_max_length=42, cls_token=\"[CLS]\", unk_token=\"N\", pad_token=\"[PAD]\", mask_token=\"[MASK]\", return_special_tokens_mask=1)\n"
   ]
  },
  {
   "cell_type": "code",
   "execution_count": null,
   "id": "26c55501",
   "metadata": {},
   "outputs": [],
   "source": [
    "tokenized_structures = fast_tokenizer(structures, padding=True, )"
   ]
  },
  {
   "cell_type": "code",
   "execution_count": null,
   "id": "d6e70350",
   "metadata": {},
   "outputs": [],
   "source": [
    "fast_tokenizer.save_pretrained('../data/AptamerBERT_tokenizer')"
   ]
  },
  {
   "cell_type": "code",
   "execution_count": null,
   "id": "edfcb825",
   "metadata": {},
   "outputs": [],
   "source": [
    "from transformers import AutoTokenizer, DataCollatorForLanguageModeling\n",
    "tokenizer = AutoTokenizer.from_pretrained('../data/AptamerBERT_tokenizer')\n",
    "data_collator = DataCollatorForLanguageModeling(tokenizer=tokenizer, mlm_probability=0.15)\n",
    "tokenizer"
   ]
  }
 ],
 "metadata": {
  "kernelspec": {
   "display_name": "npl-2023b",
   "language": "python",
   "name": "python3"
  },
  "language_info": {
   "codemirror_mode": {
    "name": "ipython",
    "version": 3
   },
   "file_extension": ".py",
   "mimetype": "text/x-python",
   "name": "python",
   "nbconvert_exporter": "python",
   "pygments_lexer": "ipython3",
   "version": "3.10.13"
  }
 },
 "nbformat": 4,
 "nbformat_minor": 5
}
