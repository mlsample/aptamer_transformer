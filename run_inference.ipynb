{
 "cells": [
  {
   "cell_type": "code",
   "execution_count": null,
   "id": "4d80798e-20bd-401f-a156-9577573273fa",
   "metadata": {},
   "outputs": [],
   "source": [
    "import torch\n",
    "import torch.nn as nn\n",
    "from torch import optim\n",
    "import yaml\n",
    "import pandas as pd\n",
    "import os\n",
    "from collections import Counter\n",
    "import numpy as np\n",
    "from torch.utils.data import DataLoader\n",
    "\n",
    "from dataset import DNASequenceDataSet\n",
    "from model import DNATransformerEncoder\n",
    "from training_utils import train_model, validate_model, test_model\n",
    "from dataset import DNASequenceDataSet\n",
    "\n",
    "from data_utils import load_and_preprocess_weighted_frequency_data, load_and_preprocess_data, load_and_preprocess_weighted_frequency_data_no_r1\n",
    "\n",
    "%load_ext autoreload\n",
    "%autoreload 2"
   ]
  },
  {
   "cell_type": "code",
   "execution_count": null,
   "id": "45ac6345-11c5-44bb-8ffc-56c3186c09b4",
   "metadata": {},
   "outputs": [],
   "source": [
    "with open('config.yaml', 'r') as stream:\n",
    "    try:\n",
    "        cfg = yaml.safe_load(stream)\n",
    "    except yaml.YAMLError as exc:\n",
    "        print(exc)"
   ]
  },
  {
   "cell_type": "code",
   "execution_count": null,
   "id": "1d8c8ff4-c119-4ce9-ac51-b317671f30fa",
   "metadata": {},
   "outputs": [],
   "source": [
    "df = load_and_preprocess_weighted_frequency_data(cfg)"
   ]
  },
  {
   "cell_type": "code",
   "execution_count": null,
   "id": "ed9e6b8d-7759-4527-9926-115a85ff3ddf",
   "metadata": {},
   "outputs": [],
   "source": [
    "df"
   ]
  },
  {
   "cell_type": "code",
   "execution_count": null,
   "id": "b695c9dc-6af0-4a85-8296-d428711cf9fa",
   "metadata": {},
   "outputs": [],
   "source": [
    "df.hist(column='Normalized_Frequency', bins=100)"
   ]
  },
  {
   "cell_type": "code",
   "execution_count": null,
   "id": "6bbef05c-af20-4586-85d9-d6aa7deef15d",
   "metadata": {
    "tags": []
   },
   "outputs": [],
   "source": [
    "df = data_utils.load_and_preprocess_enrichment_data(cfg)"
   ]
  },
  {
   "cell_type": "code",
   "execution_count": null,
   "id": "9bca67fe-2dd5-4046-9e37-9d8c087ce417",
   "metadata": {},
   "outputs": [],
   "source": [
    "enrichment_length = {key: len(df[key]) for key in df.keys()}"
   ]
  },
  {
   "cell_type": "code",
   "execution_count": null,
   "id": "8d3c9f08-71a1-4833-a814-6a2577200a01",
   "metadata": {},
   "outputs": [],
   "source": [
    "enrichment_length"
   ]
  },
  {
   "cell_type": "code",
   "execution_count": null,
   "id": "bd5c65ae-7878-4466-a3fa-a46f8eec5c27",
   "metadata": {
    "collapsed": true,
    "jupyter": {
     "outputs_hidden": true
    },
    "tags": []
   },
   "outputs": [],
   "source": [
    "df[('HanS_R2.txt', 'HanS_R8.txt')]"
   ]
  },
  {
   "cell_type": "code",
   "execution_count": null,
   "id": "ea2feabf-a1a0-4b5e-b17c-a8b56d4bc4c7",
   "metadata": {},
   "outputs": [],
   "source": [
    "result = data_utils.fix_mislabed_nucleotides(cfg)"
   ]
  },
  {
   "cell_type": "code",
   "execution_count": null,
   "id": "3c5aebec-f857-4c13-b58e-4a1f8dbd3362",
   "metadata": {},
   "outputs": [],
   "source": [
    "# Initialize the model and optimizer here as you did during training\n",
    "device = torch.device(\"cuda:1\")  \n",
    "cfg.update({\n",
    "    'device': device,\n",
    "})\n",
    "\n",
    "model = DNATransformerEncoder(cfg).to(device)\n",
    "optimizer = optim.Adam(model.parameters(), lr=cfg['learning_rate'])\n",
    "\n",
    "# Load the checkpoint\n",
    "checkpoint = torch.load(\"model_checkpoint.pt\")  # Replace X with the epoch number\n",
    "\n",
    "# Restore the model and optimizer states\n",
    "model.load_state_dict(checkpoint['model_state_dict'])\n",
    "optimizer.load_state_dict(checkpoint['optimizer_state_dict'])\n",
    "\n",
    "# Move the model to evaluation mode if you are doing inference\n",
    "model.eval()\n"
   ]
  },
  {
   "cell_type": "code",
   "execution_count": null,
   "id": "ff343580-94ea-4e3b-833c-8d736505c7f0",
   "metadata": {},
   "outputs": [],
   "source": [
    "import random\n",
    "\n",
    "def generate_random_dna_sequence(length=40):\n",
    "    nucleotides = ['A', 'C', 'G', 'T']\n",
    "    return ''.join(random.choice(nucleotides) for _ in range(length))\n",
    "\n",
    "# Generate a random DNA sequence of 40 nucleotides\n",
    "\n",
    "n_sequences = 1000000\n",
    "\n",
    "random_dna_sequence_data_set = [(generate_random_dna_sequence(), 1) for _ in range(n_sequences)]\n",
    "df = pd.DataFrame(random_dna_sequence_data_set, columns=['Sequence', 'Normalized_Frequency'])\n",
    "dna_dataset = DNASequenceDataSet(df)\n",
    "test_loader = DataLoader(dna_dataset, batch_size=2048, num_workers=10)"
   ]
  },
  {
   "cell_type": "code",
   "execution_count": null,
   "id": "c12185ef-6be3-44a8-b28b-35cc1d5693c5",
   "metadata": {},
   "outputs": [],
   "source": [
    "result = []\n",
    "with torch.no_grad():\n",
    "    for batch in test_loader:\n",
    "        x, y, len_x = batch\n",
    "        x = x.to(cfg['device'])\n",
    "        \n",
    "        output = model(x, len_x)\n",
    "        \n",
    "        result.append(output)"
   ]
  },
  {
   "cell_type": "code",
   "execution_count": null,
   "id": "56fc22d8-785c-42e5-9a29-e96e9796f5af",
   "metadata": {
    "tags": []
   },
   "outputs": [],
   "source": [
    "best_random_sequence = torch.sort(torch.cat(result).movedim(1,0))"
   ]
  },
  {
   "cell_type": "code",
   "execution_count": null,
   "id": "838cbab8-93c5-4756-9295-f5451ec00f53",
   "metadata": {},
   "outputs": [],
   "source": [
    "best_random_sequence"
   ]
  },
  {
   "cell_type": "code",
   "execution_count": null,
   "id": "b789080b-853c-4871-8f54-bcc119c5f2cc",
   "metadata": {},
   "outputs": [],
   "source": [
    "sorted(result, reverse=True)"
   ]
  },
  {
   "cell_type": "code",
   "execution_count": null,
   "id": "9985a412-5313-4186-9028-a2d9f428465d",
   "metadata": {},
   "outputs": [],
   "source": [
    "def get_min_max_normalized_frequency(combined_counter):\n",
    "    # Extract the raw frequencies\n",
    "    raw_frequencies = np.array(list(combined_counter.values()))\n",
    "    \n",
    "    # Calculate Min-Max normalization constants\n",
    "    min_val = np.min(raw_frequencies)\n",
    "    max_val = np.max(raw_frequencies)\n",
    "    \n",
    "    # Perform Min-Max normalization\n",
    "    normalized_frequencies = {key: (value - min_val) / (max_val - min_val) for key, value in combined_counter.items()}\n",
    "    \n",
    "    # Sort by normalized frequency\n",
    "    sorted_items = sorted(normalized_frequencies.items(), key=lambda item: item[1], reverse=True)\n",
    "    \n",
    "    return sorted_items\n",
    "\n",
    "def load_and_preprocess_data(dfs):\n",
    "    \n",
    "    counter_set = Counter(dfs)\n",
    "    sorted_normalized_items = get_min_max_normalized_frequency(counter_set)\n",
    "    df = pd.DataFrame(sorted_normalized_items, columns=['Sequence', 'Normalized_Frequency'])\n",
    "    return df\n",
    "\n",
    "df = load_and_preprocess_data(df)\n",
    "df"
   ]
  },
  {
   "cell_type": "code",
   "execution_count": null,
   "id": "426033d7-abca-4a3a-9cf6-3801c32b9f66",
   "metadata": {},
   "outputs": [],
   "source": [
    "load_and_preprocess_data(cfg)"
   ]
  }
 ],
 "metadata": {
  "kernelspec": {
   "display_name": "transformer",
   "language": "python",
   "name": "transformer"
  },
  "language_info": {
   "codemirror_mode": {
    "name": "ipython",
    "version": 3
   },
   "file_extension": ".py",
   "mimetype": "text/x-python",
   "name": "python",
   "nbconvert_exporter": "python",
   "pygments_lexer": "ipython3",
   "version": "3.11.3"
  }
 },
 "nbformat": 4,
 "nbformat_minor": 5
}
