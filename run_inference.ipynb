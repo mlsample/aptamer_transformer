{
 "cells": [
  {
   "cell_type": "code",
   "execution_count": 48,
   "id": "4d80798e-20bd-401f-a156-9577573273fa",
   "metadata": {},
   "outputs": [
    {
     "name": "stdout",
     "output_type": "stream",
     "text": [
      "The autoreload extension is already loaded. To reload it, use:\n",
      "  %reload_ext autoreload\n"
     ]
    }
   ],
   "source": [
    "import torch\n",
    "import torch.nn as nn\n",
    "import torch.nn.functional as F\n",
    "from torch import optim\n",
    "import yaml\n",
    "import pandas as pd\n",
    "import os\n",
    "from collections import Counter\n",
    "import numpy as np\n",
    "from torch.utils.data import DataLoader\n",
    "from sklearn.preprocessing import quantile_transform \n",
    "from x_transformers import XTransformer, TransformerWrapper, Decoder, Encoder, ViTransformerWrapper\n",
    "from dataset import DNASequenceDataSet\n",
    "from model import DNATransformerEncoder, get_model\n",
    "from training_utils import train_model, validate_model, test_model\n",
    "from data_utils import *\n",
    "\n",
    "%load_ext autoreload\n",
    "%autoreload 2"
   ]
  },
  {
   "cell_type": "code",
   "execution_count": 50,
   "id": "45ac6345-11c5-44bb-8ffc-56c3186c09b4",
   "metadata": {},
   "outputs": [],
   "source": [
    "with open('config.yaml', 'r') as stream:\n",
    "    try:\n",
    "        cfg = yaml.safe_load(stream)\n",
    "    except yaml.YAMLError as exc:\n",
    "        print(exc)"
   ]
  },
  {
   "cell_type": "code",
   "execution_count": 3,
   "id": "1d8c8ff4-c119-4ce9-ac51-b317671f30fa",
   "metadata": {},
   "outputs": [
    {
     "ename": "ParserError",
     "evalue": "Error tokenizing data. C error: Calling read(nbytes) on source failed. Try engine='python'.",
     "output_type": "error",
     "traceback": [
      "\u001b[0;31m---------------------------------------------------------------------------\u001b[0m",
      "\u001b[0;31mParserError\u001b[0m                               Traceback (most recent call last)",
      "Cell \u001b[0;32mIn[3], line 1\u001b[0m\n\u001b[0;32m----> 1\u001b[0m df \u001b[38;5;241m=\u001b[39m \u001b[43mload_and_preprocess_enrichment_data\u001b[49m\u001b[43m(\u001b[49m\u001b[43mcfg\u001b[49m\u001b[43m)\u001b[49m\n",
      "File \u001b[0;32m/glade/work/mlsample/aptamer_transformer/data_utils.py:175\u001b[0m, in \u001b[0;36mload_and_preprocess_enrichment_data\u001b[0;34m(cfg, round_weighting)\u001b[0m\n\u001b[1;32m    174\u001b[0m \u001b[38;5;28;01mdef\u001b[39;00m \u001b[38;5;21mload_and_preprocess_enrichment_data\u001b[39m(cfg, round_weighting\u001b[38;5;241m=\u001b[39m\u001b[38;5;28;01mTrue\u001b[39;00m):\n\u001b[0;32m--> 175\u001b[0m     dfs \u001b[38;5;241m=\u001b[39m \u001b[43mread_data_files\u001b[49m\u001b[43m(\u001b[49m\u001b[43mcfg\u001b[49m\u001b[43m)\u001b[49m\n\u001b[1;32m    177\u001b[0m     files \u001b[38;5;241m=\u001b[39m \u001b[38;5;28mlist\u001b[39m(dfs\u001b[38;5;241m.\u001b[39mkeys())\n\u001b[1;32m    178\u001b[0m     round_number \u001b[38;5;241m=\u001b[39m [\u001b[38;5;28mint\u001b[39m(re\u001b[38;5;241m.\u001b[39mfindall(\u001b[38;5;124mr\u001b[39m\u001b[38;5;124m'\u001b[39m\u001b[38;5;124m\\\u001b[39m\u001b[38;5;124md+\u001b[39m\u001b[38;5;124m'\u001b[39m, name)[\u001b[38;5;241m0\u001b[39m]) \u001b[38;5;28;01mfor\u001b[39;00m name \u001b[38;5;129;01min\u001b[39;00m files]\n",
      "File \u001b[0;32m/glade/work/mlsample/aptamer_transformer/data_utils.py:26\u001b[0m, in \u001b[0;36mread_data_files\u001b[0;34m(cfg)\u001b[0m\n\u001b[1;32m     24\u001b[0m \u001b[38;5;28;01melse\u001b[39;00m:\n\u001b[1;32m     25\u001b[0m     \u001b[38;5;28;01mfor\u001b[39;00m idx, file \u001b[38;5;129;01min\u001b[39;00m \u001b[38;5;28menumerate\u001b[39m(data_path):\n\u001b[0;32m---> 26\u001b[0m         df \u001b[38;5;241m=\u001b[39m \u001b[43mpd\u001b[49m\u001b[38;5;241;43m.\u001b[39;49m\u001b[43mread_csv\u001b[49m\u001b[43m(\u001b[49m\u001b[43mfile\u001b[49m\u001b[43m,\u001b[49m\u001b[43m \u001b[49m\u001b[43mheader\u001b[49m\u001b[38;5;241;43m=\u001b[39;49m\u001b[38;5;28;43;01mNone\u001b[39;49;00m\u001b[43m,\u001b[49m\u001b[43m \u001b[49m\u001b[43mnames\u001b[49m\u001b[38;5;241;43m=\u001b[39;49m\u001b[43m[\u001b[49m\u001b[38;5;124;43m'\u001b[39;49m\u001b[38;5;124;43msequence\u001b[39;49m\u001b[38;5;124;43m'\u001b[39;49m\u001b[43m]\u001b[49m\u001b[43m)\u001b[49m\n\u001b[1;32m     27\u001b[0m         dfs[data_files[idx]] \u001b[38;5;241m=\u001b[39m df\n\u001b[1;32m     29\u001b[0m \u001b[38;5;28;01mreturn\u001b[39;00m dfs\n",
      "File \u001b[0;32m/glade/work/mlsample/conda-envs/guess/lib/python3.10/site-packages/pandas/io/parsers/readers.py:948\u001b[0m, in \u001b[0;36mread_csv\u001b[0;34m(filepath_or_buffer, sep, delimiter, header, names, index_col, usecols, dtype, engine, converters, true_values, false_values, skipinitialspace, skiprows, skipfooter, nrows, na_values, keep_default_na, na_filter, verbose, skip_blank_lines, parse_dates, infer_datetime_format, keep_date_col, date_parser, date_format, dayfirst, cache_dates, iterator, chunksize, compression, thousands, decimal, lineterminator, quotechar, quoting, doublequote, escapechar, comment, encoding, encoding_errors, dialect, on_bad_lines, delim_whitespace, low_memory, memory_map, float_precision, storage_options, dtype_backend)\u001b[0m\n\u001b[1;32m    935\u001b[0m kwds_defaults \u001b[38;5;241m=\u001b[39m _refine_defaults_read(\n\u001b[1;32m    936\u001b[0m     dialect,\n\u001b[1;32m    937\u001b[0m     delimiter,\n\u001b[0;32m   (...)\u001b[0m\n\u001b[1;32m    944\u001b[0m     dtype_backend\u001b[38;5;241m=\u001b[39mdtype_backend,\n\u001b[1;32m    945\u001b[0m )\n\u001b[1;32m    946\u001b[0m kwds\u001b[38;5;241m.\u001b[39mupdate(kwds_defaults)\n\u001b[0;32m--> 948\u001b[0m \u001b[38;5;28;01mreturn\u001b[39;00m \u001b[43m_read\u001b[49m\u001b[43m(\u001b[49m\u001b[43mfilepath_or_buffer\u001b[49m\u001b[43m,\u001b[49m\u001b[43m \u001b[49m\u001b[43mkwds\u001b[49m\u001b[43m)\u001b[49m\n",
      "File \u001b[0;32m/glade/work/mlsample/conda-envs/guess/lib/python3.10/site-packages/pandas/io/parsers/readers.py:617\u001b[0m, in \u001b[0;36m_read\u001b[0;34m(filepath_or_buffer, kwds)\u001b[0m\n\u001b[1;32m    614\u001b[0m     \u001b[38;5;28;01mreturn\u001b[39;00m parser\n\u001b[1;32m    616\u001b[0m \u001b[38;5;28;01mwith\u001b[39;00m parser:\n\u001b[0;32m--> 617\u001b[0m     \u001b[38;5;28;01mreturn\u001b[39;00m \u001b[43mparser\u001b[49m\u001b[38;5;241;43m.\u001b[39;49m\u001b[43mread\u001b[49m\u001b[43m(\u001b[49m\u001b[43mnrows\u001b[49m\u001b[43m)\u001b[49m\n",
      "File \u001b[0;32m/glade/work/mlsample/conda-envs/guess/lib/python3.10/site-packages/pandas/io/parsers/readers.py:1748\u001b[0m, in \u001b[0;36mTextFileReader.read\u001b[0;34m(self, nrows)\u001b[0m\n\u001b[1;32m   1741\u001b[0m nrows \u001b[38;5;241m=\u001b[39m validate_integer(\u001b[38;5;124m\"\u001b[39m\u001b[38;5;124mnrows\u001b[39m\u001b[38;5;124m\"\u001b[39m, nrows)\n\u001b[1;32m   1742\u001b[0m \u001b[38;5;28;01mtry\u001b[39;00m:\n\u001b[1;32m   1743\u001b[0m     \u001b[38;5;66;03m# error: \"ParserBase\" has no attribute \"read\"\u001b[39;00m\n\u001b[1;32m   1744\u001b[0m     (\n\u001b[1;32m   1745\u001b[0m         index,\n\u001b[1;32m   1746\u001b[0m         columns,\n\u001b[1;32m   1747\u001b[0m         col_dict,\n\u001b[0;32m-> 1748\u001b[0m     ) \u001b[38;5;241m=\u001b[39m \u001b[38;5;28;43mself\u001b[39;49m\u001b[38;5;241;43m.\u001b[39;49m\u001b[43m_engine\u001b[49m\u001b[38;5;241;43m.\u001b[39;49m\u001b[43mread\u001b[49m\u001b[43m(\u001b[49m\u001b[43m  \u001b[49m\u001b[38;5;66;43;03m# type: ignore[attr-defined]\u001b[39;49;00m\n\u001b[1;32m   1749\u001b[0m \u001b[43m        \u001b[49m\u001b[43mnrows\u001b[49m\n\u001b[1;32m   1750\u001b[0m \u001b[43m    \u001b[49m\u001b[43m)\u001b[49m\n\u001b[1;32m   1751\u001b[0m \u001b[38;5;28;01mexcept\u001b[39;00m \u001b[38;5;167;01mException\u001b[39;00m:\n\u001b[1;32m   1752\u001b[0m     \u001b[38;5;28mself\u001b[39m\u001b[38;5;241m.\u001b[39mclose()\n",
      "File \u001b[0;32m/glade/work/mlsample/conda-envs/guess/lib/python3.10/site-packages/pandas/io/parsers/c_parser_wrapper.py:234\u001b[0m, in \u001b[0;36mCParserWrapper.read\u001b[0;34m(self, nrows)\u001b[0m\n\u001b[1;32m    232\u001b[0m \u001b[38;5;28;01mtry\u001b[39;00m:\n\u001b[1;32m    233\u001b[0m     \u001b[38;5;28;01mif\u001b[39;00m \u001b[38;5;28mself\u001b[39m\u001b[38;5;241m.\u001b[39mlow_memory:\n\u001b[0;32m--> 234\u001b[0m         chunks \u001b[38;5;241m=\u001b[39m \u001b[38;5;28;43mself\u001b[39;49m\u001b[38;5;241;43m.\u001b[39;49m\u001b[43m_reader\u001b[49m\u001b[38;5;241;43m.\u001b[39;49m\u001b[43mread_low_memory\u001b[49m\u001b[43m(\u001b[49m\u001b[43mnrows\u001b[49m\u001b[43m)\u001b[49m\n\u001b[1;32m    235\u001b[0m         \u001b[38;5;66;03m# destructive to chunks\u001b[39;00m\n\u001b[1;32m    236\u001b[0m         data \u001b[38;5;241m=\u001b[39m _concatenate_chunks(chunks)\n",
      "File \u001b[0;32mparsers.pyx:843\u001b[0m, in \u001b[0;36mpandas._libs.parsers.TextReader.read_low_memory\u001b[0;34m()\u001b[0m\n",
      "File \u001b[0;32mparsers.pyx:904\u001b[0m, in \u001b[0;36mpandas._libs.parsers.TextReader._read_rows\u001b[0;34m()\u001b[0m\n",
      "File \u001b[0;32mparsers.pyx:879\u001b[0m, in \u001b[0;36mpandas._libs.parsers.TextReader._tokenize_rows\u001b[0;34m()\u001b[0m\n",
      "File \u001b[0;32mparsers.pyx:890\u001b[0m, in \u001b[0;36mpandas._libs.parsers.TextReader._check_tokenize_status\u001b[0;34m()\u001b[0m\n",
      "File \u001b[0;32mparsers.pyx:2058\u001b[0m, in \u001b[0;36mpandas._libs.parsers.raise_parser_error\u001b[0;34m()\u001b[0m\n",
      "\u001b[0;31mParserError\u001b[0m: Error tokenizing data. C error: Calling read(nbytes) on source failed. Try engine='python'."
     ]
    }
   ],
   "source": [
    "df = load_and_preprocess_enrichment_data(cfg)\n"
   ]
  },
  {
   "cell_type": "code",
   "execution_count": 4,
   "id": "34c40474",
   "metadata": {},
   "outputs": [],
   "source": [
    "df = pd.read_hdf('dna_dataset.h5', 'df')"
   ]
  },
  {
   "cell_type": "code",
   "execution_count": 5,
   "id": "0b0a8df7",
   "metadata": {},
   "outputs": [
    {
     "data": {
      "text/html": [
       "<div>\n",
       "<style scoped>\n",
       "    .dataframe tbody tr th:only-of-type {\n",
       "        vertical-align: middle;\n",
       "    }\n",
       "\n",
       "    .dataframe tbody tr th {\n",
       "        vertical-align: top;\n",
       "    }\n",
       "\n",
       "    .dataframe thead th {\n",
       "        text-align: right;\n",
       "    }\n",
       "</style>\n",
       "<table border=\"1\" class=\"dataframe\">\n",
       "  <thead>\n",
       "    <tr style=\"text-align: right;\">\n",
       "      <th></th>\n",
       "      <th>Sequence</th>\n",
       "      <th>Normalized_Frequency</th>\n",
       "    </tr>\n",
       "  </thead>\n",
       "  <tbody>\n",
       "    <tr>\n",
       "      <th>0</th>\n",
       "      <td>ATCGGGGGGTGGGTTTGGGTATGGGGTCTGCACTATGGCTC</td>\n",
       "      <td>1.0</td>\n",
       "    </tr>\n",
       "    <tr>\n",
       "      <th>1</th>\n",
       "      <td>TCGCGGGGGGCGGGTCGGGTGCTCGTTCGAGGGGTCGCAG</td>\n",
       "      <td>1.0</td>\n",
       "    </tr>\n",
       "    <tr>\n",
       "      <th>2</th>\n",
       "      <td>AGGTTGGTGTAGGTTTAGGTTGTATTGGTTAGGGTTGAGA</td>\n",
       "      <td>1.0</td>\n",
       "    </tr>\n",
       "    <tr>\n",
       "      <th>3</th>\n",
       "      <td>TGGCTGTCTTACGATCGCGAAGGACGATTGAAAACTTTGA</td>\n",
       "      <td>0.0</td>\n",
       "    </tr>\n",
       "    <tr>\n",
       "      <th>4</th>\n",
       "      <td>GGGGGGGGGGGGGGGGGGGGGGGGGGGGGGGGGGGGGGGG</td>\n",
       "      <td>1.0</td>\n",
       "    </tr>\n",
       "    <tr>\n",
       "      <th>...</th>\n",
       "      <td>...</td>\n",
       "      <td>...</td>\n",
       "    </tr>\n",
       "    <tr>\n",
       "      <th>1287745</th>\n",
       "      <td>AAGGCTTATCGGCTGGGGGGTGGGCCCGGGTTTGGGGTCGT</td>\n",
       "      <td>0.0</td>\n",
       "    </tr>\n",
       "    <tr>\n",
       "      <th>1287746</th>\n",
       "      <td>GGGCGCGGGCCGCCCCGGCCACACCAAAACACGTTCAGCT</td>\n",
       "      <td>0.0</td>\n",
       "    </tr>\n",
       "    <tr>\n",
       "      <th>1287747</th>\n",
       "      <td>GGGGGTTGCCGCCCCGGGCCACACCAAAACACGTTCAACT</td>\n",
       "      <td>0.0</td>\n",
       "    </tr>\n",
       "    <tr>\n",
       "      <th>1287748</th>\n",
       "      <td>TGGGGGGGGGGGTTTGGTTATGGGGTCCGCACTGTGGCTC</td>\n",
       "      <td>1.0</td>\n",
       "    </tr>\n",
       "    <tr>\n",
       "      <th>1287749</th>\n",
       "      <td>TGGGGGGGGGGCTCGGGATGGGGGTCGTTTCTACAGTGGG</td>\n",
       "      <td>1.0</td>\n",
       "    </tr>\n",
       "  </tbody>\n",
       "</table>\n",
       "<p>1287750 rows × 2 columns</p>\n",
       "</div>"
      ],
      "text/plain": [
       "                                          Sequence  Normalized_Frequency\n",
       "0        ATCGGGGGGTGGGTTTGGGTATGGGGTCTGCACTATGGCTC                   1.0\n",
       "1         TCGCGGGGGGCGGGTCGGGTGCTCGTTCGAGGGGTCGCAG                   1.0\n",
       "2         AGGTTGGTGTAGGTTTAGGTTGTATTGGTTAGGGTTGAGA                   1.0\n",
       "3         TGGCTGTCTTACGATCGCGAAGGACGATTGAAAACTTTGA                   0.0\n",
       "4         GGGGGGGGGGGGGGGGGGGGGGGGGGGGGGGGGGGGGGGG                   1.0\n",
       "...                                            ...                   ...\n",
       "1287745  AAGGCTTATCGGCTGGGGGGTGGGCCCGGGTTTGGGGTCGT                   0.0\n",
       "1287746   GGGCGCGGGCCGCCCCGGCCACACCAAAACACGTTCAGCT                   0.0\n",
       "1287747   GGGGGTTGCCGCCCCGGGCCACACCAAAACACGTTCAACT                   0.0\n",
       "1287748   TGGGGGGGGGGGTTTGGTTATGGGGTCCGCACTGTGGCTC                   1.0\n",
       "1287749   TGGGGGGGGGGCTCGGGATGGGGGTCGTTTCTACAGTGGG                   1.0\n",
       "\n",
       "[1287750 rows x 2 columns]"
      ]
     },
     "execution_count": 5,
     "metadata": {},
     "output_type": "execute_result"
    }
   ],
   "source": [
    "df"
   ]
  },
  {
   "cell_type": "code",
   "execution_count": 6,
   "id": "34405323",
   "metadata": {},
   "outputs": [
    {
     "data": {
      "text/plain": [
       "array([[<Axes: title={'center': 'Normalized_Frequency'}>]], dtype=object)"
      ]
     },
     "execution_count": 6,
     "metadata": {},
     "output_type": "execute_result"
    },
    {
     "data": {
      "image/png": "[encoded data removed]",
      "text/plain": [
       "<Figure size 640x480 with 1 Axes>"
      ]
     },
     "metadata": {},
     "output_type": "display_data"
    }
   ],
   "source": [
    "df.hist(column='Normalized_Frequency', bins=100)"
   ]
  },
  {
   "cell_type": "code",
   "execution_count": 7,
   "id": "f4d8fe3f",
   "metadata": {},
   "outputs": [],
   "source": [
    "dna_data  = DNASequenceDataSet(df)"
   ]
  },
  {
   "cell_type": "code",
   "execution_count": 70,
   "id": "aa5a9dda",
   "metadata": {},
   "outputs": [
    {
     "data": {
      "text/plain": [
       "device(type='cuda', index=0)"
      ]
     },
     "execution_count": 70,
     "metadata": {},
     "output_type": "execute_result"
    }
   ],
   "source": [
    "model.device"
   ]
  },
  {
   "cell_type": "code",
   "execution_count": 73,
   "id": "428a4471",
   "metadata": {},
   "outputs": [],
   "source": [
    "device = torch.device(\"cuda:0\" if torch.cuda.is_available() else \"cpu\")\n",
    "cfg['device'] = device\n",
    "\n",
    "model = get_model(cfg).to(device)\n",
    "\n",
    "src = dna_data.x[:5].to(device)\n",
    "\n",
    "len_x = dna_data.len_x[:5]\n",
    "trg = dna_data.y[:5]\n",
    "\n"
   ]
  },
  {
   "cell_type": "code",
   "execution_count": 75,
   "id": "a4097ee6",
   "metadata": {},
   "outputs": [],
   "source": [
    "\n",
    "\n",
    "out = model(src, len_x) \n"
   ]
  },
  {
   "cell_type": "code",
   "execution_count": 77,
   "id": "5553ab3d",
   "metadata": {},
   "outputs": [
    {
     "data": {
      "text/plain": [
       "torch.Size([5, 1])"
      ]
     },
     "execution_count": 77,
     "metadata": {},
     "output_type": "execute_result"
    }
   ],
   "source": [
    "out.shape"
   ]
  },
  {
   "cell_type": "code",
   "execution_count": 23,
   "id": "9be102da",
   "metadata": {},
   "outputs": [
    {
     "data": {
      "text/plain": [
       "<Axes: >"
      ]
     },
     "execution_count": 23,
     "metadata": {},
     "output_type": "execute_result"
    },
    {
     "data": {
      "image/png": "[encoded data removed]",
      "text/plain": [
       "<Figure size 640x480 with 1 Axes>"
      ]
     },
     "metadata": {},
     "output_type": "display_data"
    }
   ],
   "source": [
    "df['Sequence'].apply(len).hist(bins=20)"
   ]
  },
  {
   "cell_type": "code",
   "execution_count": 14,
   "id": "97d1d464",
   "metadata": {},
   "outputs": [],
   "source": [
    "dataset = DNASequenceDataSet(df)"
   ]
  },
  {
   "cell_type": "code",
   "execution_count": 27,
   "id": "5a42542a",
   "metadata": {},
   "outputs": [
    {
     "data": {
      "text/plain": [
       "152611"
      ]
     },
     "execution_count": 27,
     "metadata": {},
     "output_type": "execute_result"
    }
   ],
   "source": [
    "len(dataset.y.unique())"
   ]
  },
  {
   "cell_type": "code",
   "execution_count": 13,
   "id": "b695c9dc-6af0-4a85-8296-d428711cf9fa",
   "metadata": {},
   "outputs": [
    {
     "data": {
      "text/plain": [
       "array([[<Axes: title={'center': 'Normalized_Frequency'}>]], dtype=object)"
      ]
     },
     "execution_count": 13,
     "metadata": {},
     "output_type": "execute_result"
    },
    {
     "data": {
      "image/png": "[encoded data removed]",
      "text/plain": [
       "<Figure size 640x480 with 1 Axes>"
      ]
     },
     "metadata": {},
     "output_type": "display_data"
    }
   ],
   "source": [
    "df.hist(column='Normalized_Frequency', bins=100)"
   ]
  },
  {
   "cell_type": "code",
   "execution_count": null,
   "id": "3c5aebec-f857-4c13-b58e-4a1f8dbd3362",
   "metadata": {},
   "outputs": [],
   "source": [
    "# Initialize the model and optimizer here as you did during training\n",
    "device = torch.device(\"cuda:0\")  \n",
    "cfg.update({\n",
    "    'device': device,\n",
    "})\n",
    "\n",
    "model = DNATransformerEncoder(cfg).to(device)\n",
    "optimizer = optim.Adam(model.parameters(), lr=cfg['learning_rate'])\n",
    "\n",
    "# Load the checkpoint\n",
    "checkpoint = torch.load(\"model_checkpoint.pt\")  # Replace X with the epoch number\n",
    "\n",
    "# Restore the model and optimizer states\n",
    "model.load_state_dict(checkpoint['model_state_dict'])\n",
    "optimizer.load_state_dict(checkpoint['optimizer_state_dict'])\n",
    "\n",
    "# Move the model to evaluation mode if you are doing inference\n",
    "model.eval()\n"
   ]
  },
  {
   "cell_type": "code",
   "execution_count": null,
   "id": "ff343580-94ea-4e3b-833c-8d736505c7f0",
   "metadata": {},
   "outputs": [],
   "source": [
    "import random\n",
    "\n",
    "def generate_random_dna_sequence(length=40):\n",
    "    nucleotides = ['A', 'C', 'G', 'T']\n",
    "    return ''.join(random.choice(nucleotides) for _ in range(length))\n",
    "\n",
    "# Generate a random DNA sequence of 40 nucleotides\n",
    "\n",
    "n_sequences = 1000000\n",
    "\n",
    "random_dna_sequence_data_set = [(generate_random_dna_sequence(), 1) for _ in range(n_sequences)]\n",
    "df = pd.DataFrame(random_dna_sequence_data_set, columns=['Sequence', 'Normalized_Frequency'])\n",
    "dna_dataset = DNASequenceDataSet(df)\n",
    "test_loader = DataLoader(dna_dataset, batch_size=2048, num_workers=10)"
   ]
  },
  {
   "cell_type": "code",
   "execution_count": null,
   "id": "c12185ef-6be3-44a8-b28b-35cc1d5693c5",
   "metadata": {},
   "outputs": [],
   "source": [
    "result = []\n",
    "with torch.no_grad():\n",
    "    for batch in test_loader:\n",
    "        x, y, len_x = batch\n",
    "        x = x.to(cfg['device'])\n",
    "        \n",
    "        output = model(x, len_x)\n",
    "        \n",
    "        result.append(output)"
   ]
  },
  {
   "cell_type": "code",
   "execution_count": null,
   "id": "56fc22d8-785c-42e5-9a29-e96e9796f5af",
   "metadata": {
    "tags": []
   },
   "outputs": [],
   "source": [
    "best_random_sequence = torch.sort(torch.cat(result).movedim(1,0))"
   ]
  },
  {
   "cell_type": "code",
   "execution_count": null,
   "id": "838cbab8-93c5-4756-9295-f5451ec00f53",
   "metadata": {},
   "outputs": [],
   "source": [
    "best_random_sequence"
   ]
  },
  {
   "cell_type": "code",
   "execution_count": null,
   "id": "b789080b-853c-4871-8f54-bcc119c5f2cc",
   "metadata": {},
   "outputs": [],
   "source": [
    "sorted(result, reverse=True)"
   ]
  },
  {
   "cell_type": "code",
   "execution_count": null,
   "id": "9985a412-5313-4186-9028-a2d9f428465d",
   "metadata": {},
   "outputs": [],
   "source": [
    "def get_min_max_normalized_frequency(combined_counter):\n",
    "    # Extract the raw frequencies\n",
    "    raw_frequencies = np.array(list(combined_counter.values()))\n",
    "    \n",
    "    # Calculate Min-Max normalization constants\n",
    "    min_val = np.min(raw_frequencies)\n",
    "    max_val = np.max(raw_frequencies)\n",
    "    \n",
    "    # Perform Min-Max normalization\n",
    "    normalized_frequencies = {key: (value - min_val) / (max_val - min_val) for key, value in combined_counter.items()}\n",
    "    \n",
    "    # Sort by normalized frequency\n",
    "    sorted_items = sorted(normalized_frequencies.items(), key=lambda item: item[1], reverse=True)\n",
    "    \n",
    "    return sorted_items\n",
    "\n",
    "def load_and_preprocess_data(dfs):\n",
    "    \n",
    "    counter_set = Counter(dfs)\n",
    "    sorted_normalized_items = get_min_max_normalized_frequency(counter_set)\n",
    "    df = pd.DataFrame(sorted_normalized_items, columns=['Sequence', 'Normalized_Frequency'])\n",
    "    return df\n",
    "\n",
    "df = load_and_preprocess_data(df)\n",
    "df"
   ]
  },
  {
   "cell_type": "code",
   "execution_count": null,
   "id": "426033d7-abca-4a3a-9cf6-3801c32b9f66",
   "metadata": {},
   "outputs": [],
   "source": [
    "load_and_preprocess_data(cfg)"
   ]
  }
 ],
 "metadata": {
  "kernelspec": {
   "display_name": "npl-2023b",
   "language": "python",
   "name": "python3"
  },
  "language_info": {
   "codemirror_mode": {
    "name": "ipython",
    "version": 3
   },
   "file_extension": ".py",
   "mimetype": "text/x-python",
   "name": "python",
   "nbconvert_exporter": "python",
   "pygments_lexer": "ipython3",
   "version": "3.10.13"
  }
 },
 "nbformat": 4,
 "nbformat_minor": 5
}
